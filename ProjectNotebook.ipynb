{
 "cells": [
  {
   "cell_type": "markdown",
   "metadata": {},
   "source": [
    "## Project Description: Statistical Tools for Social Scientists\n",
    "#### By: Alex Richard Zhao\n",
    "\n",
    "The most rewarding aspect of research is statistically analyizing data to investigate whether patterns or relations exist among variables of interest. \n",
    "\n",
    "I have expanded upon my work in the Computational Social Science Minor to build several functions to gather some basic statistics, conduct simple bivariate regression with optional plotting, and engage in supervised machine learning with optional summary details and/or k-fold cross validation. My interest for this project derives from my time in R where the functions for conducting these statistics are much more straightforward. Therefore, I'm hoping to replicate some of those functions in Python for future use should I find myself entering back into python. All in all, I have written four functions, two simple and two complex. "
   ]
  },
  {
   "cell_type": "markdown",
   "metadata": {},
   "source": [
    "#### Importing Modules "
   ]
  },
  {
   "cell_type": "code",
   "execution_count": 1,
   "metadata": {},
   "outputs": [],
   "source": [
    "from my_module import stats_functions as stats\n",
    "from my_module import test_functions as tests\n",
    "import numpy as np\n",
    "import pandas as pd\n",
    "import matplotlib.pyplot as plt\n",
    "import seaborn as sns\n",
    "from sklearn.linear_model import LinearRegression\n",
    "from sklearn.model_selection import train_test_split\n",
    "import statsmodels.api as sm\n",
    "from sklearn import model_selection"
   ]
  },
  {
   "cell_type": "markdown",
   "metadata": {},
   "source": [
    "#### Using Basic Averaging Function in lieu of np.mean"
   ]
  },
  {
   "cell_type": "code",
   "execution_count": 2,
   "metadata": {},
   "outputs": [],
   "source": [
    "# Initializing a Test List\n",
    "test_list = [1, 2, 3, 4 ,5]"
   ]
  },
  {
   "cell_type": "code",
   "execution_count": 3,
   "metadata": {},
   "outputs": [
    {
     "data": {
      "text/plain": [
       "3.0"
      ]
     },
     "execution_count": 3,
     "metadata": {},
     "output_type": "execute_result"
    }
   ],
   "source": [
    "# The avg function computes the average of a given list or dataframe column\n",
    "stats.avg(test_list)"
   ]
  },
  {
   "cell_type": "code",
   "execution_count": 4,
   "metadata": {},
   "outputs": [
    {
     "name": "stdout",
     "output_type": "stream",
     "text": [
      "The Function Works\n"
     ]
    }
   ],
   "source": [
    "# Testing if the results are consistent with the traditional np.mean() function\n",
    "tests.test_avg(test_list)"
   ]
  },
  {
   "cell_type": "markdown",
   "metadata": {},
   "source": [
    "#### Using the Created Standard Deviation function in lieu of np.std() \n",
    "Note this function is currenlty bugged and is not computing the correct standard deviation\n",
    "\n",
    "I based the function on the standard deviation equation, however I'm not sure where in the formula I messed up"
   ]
  },
  {
   "cell_type": "code",
   "execution_count": 5,
   "metadata": {},
   "outputs": [
    {
     "data": {
      "text/plain": [
       "1.5811388300841898"
      ]
     },
     "execution_count": 5,
     "metadata": {},
     "output_type": "execute_result"
    }
   ],
   "source": [
    "# Using the same test_list, using the written function\n",
    "stats.sd(test_list)"
   ]
  },
  {
   "cell_type": "code",
   "execution_count": 6,
   "metadata": {},
   "outputs": [
    {
     "data": {
      "text/plain": [
       "1.4142135623730951"
      ]
     },
     "execution_count": 6,
     "metadata": {},
     "output_type": "execute_result"
    }
   ],
   "source": [
    "# I know this function is bugged so what is the correct std according to numpy\n",
    "np.std(test_list)"
   ]
  },
  {
   "cell_type": "code",
   "execution_count": 7,
   "metadata": {},
   "outputs": [
    {
     "name": "stdout",
     "output_type": "stream",
     "text": [
      "Something is Wrong with the Math\n"
     ]
    }
   ],
   "source": [
    "# Testing if the results are consistnent with the traditional np.std() function\n",
    "tests.test_sd(test_list)"
   ]
  },
  {
   "cell_type": "markdown",
   "metadata": {},
   "source": [
    "### Simple Data Analysis using two datasets from the seaborn module"
   ]
  },
  {
   "cell_type": "markdown",
   "metadata": {},
   "source": [
    "#### Bivariate Regression of Flights and Years\n",
    "##### Loading the Flights Dataset"
   ]
  },
  {
   "cell_type": "code",
   "execution_count": 8,
   "metadata": {},
   "outputs": [],
   "source": [
    "# This is a dataset on flights over time\n",
    "flights = sns.load_dataset(\"flights\")"
   ]
  },
  {
   "cell_type": "code",
   "execution_count": 9,
   "metadata": {},
   "outputs": [
    {
     "data": {
      "text/html": [
       "<div>\n",
       "<style scoped>\n",
       "    .dataframe tbody tr th:only-of-type {\n",
       "        vertical-align: middle;\n",
       "    }\n",
       "\n",
       "    .dataframe tbody tr th {\n",
       "        vertical-align: top;\n",
       "    }\n",
       "\n",
       "    .dataframe thead th {\n",
       "        text-align: right;\n",
       "    }\n",
       "</style>\n",
       "<table border=\"1\" class=\"dataframe\">\n",
       "  <thead>\n",
       "    <tr style=\"text-align: right;\">\n",
       "      <th></th>\n",
       "      <th>year</th>\n",
       "      <th>month</th>\n",
       "      <th>passengers</th>\n",
       "    </tr>\n",
       "  </thead>\n",
       "  <tbody>\n",
       "    <tr>\n",
       "      <th>0</th>\n",
       "      <td>1949</td>\n",
       "      <td>January</td>\n",
       "      <td>112</td>\n",
       "    </tr>\n",
       "    <tr>\n",
       "      <th>1</th>\n",
       "      <td>1949</td>\n",
       "      <td>February</td>\n",
       "      <td>118</td>\n",
       "    </tr>\n",
       "    <tr>\n",
       "      <th>2</th>\n",
       "      <td>1949</td>\n",
       "      <td>March</td>\n",
       "      <td>132</td>\n",
       "    </tr>\n",
       "    <tr>\n",
       "      <th>3</th>\n",
       "      <td>1949</td>\n",
       "      <td>April</td>\n",
       "      <td>129</td>\n",
       "    </tr>\n",
       "    <tr>\n",
       "      <th>4</th>\n",
       "      <td>1949</td>\n",
       "      <td>May</td>\n",
       "      <td>121</td>\n",
       "    </tr>\n",
       "    <tr>\n",
       "      <th>5</th>\n",
       "      <td>1949</td>\n",
       "      <td>June</td>\n",
       "      <td>135</td>\n",
       "    </tr>\n",
       "    <tr>\n",
       "      <th>6</th>\n",
       "      <td>1949</td>\n",
       "      <td>July</td>\n",
       "      <td>148</td>\n",
       "    </tr>\n",
       "    <tr>\n",
       "      <th>7</th>\n",
       "      <td>1949</td>\n",
       "      <td>August</td>\n",
       "      <td>148</td>\n",
       "    </tr>\n",
       "    <tr>\n",
       "      <th>8</th>\n",
       "      <td>1949</td>\n",
       "      <td>September</td>\n",
       "      <td>136</td>\n",
       "    </tr>\n",
       "    <tr>\n",
       "      <th>9</th>\n",
       "      <td>1949</td>\n",
       "      <td>October</td>\n",
       "      <td>119</td>\n",
       "    </tr>\n",
       "    <tr>\n",
       "      <th>10</th>\n",
       "      <td>1949</td>\n",
       "      <td>November</td>\n",
       "      <td>104</td>\n",
       "    </tr>\n",
       "    <tr>\n",
       "      <th>11</th>\n",
       "      <td>1949</td>\n",
       "      <td>December</td>\n",
       "      <td>118</td>\n",
       "    </tr>\n",
       "  </tbody>\n",
       "</table>\n",
       "</div>"
      ],
      "text/plain": [
       "    year      month  passengers\n",
       "0   1949    January         112\n",
       "1   1949   February         118\n",
       "2   1949      March         132\n",
       "3   1949      April         129\n",
       "4   1949        May         121\n",
       "5   1949       June         135\n",
       "6   1949       July         148\n",
       "7   1949     August         148\n",
       "8   1949  September         136\n",
       "9   1949    October         119\n",
       "10  1949   November         104\n",
       "11  1949   December         118"
      ]
     },
     "execution_count": 9,
     "metadata": {},
     "output_type": "execute_result"
    }
   ],
   "source": [
    "# It would be useful to take the time to feature engineer months into an ordinal variable however for parsimony sake\n",
    "# However for parsimony sake, I decided to investigate the number of passengers over time (measured in years)\n",
    "# The .head() function desplays the first 5 rows of the dataset, however as demonstrated you can pass a number\n",
    "# to see more.\n",
    "flights.head(12)"
   ]
  },
  {
   "cell_type": "markdown",
   "metadata": {},
   "source": [
    "##### Explanation of Function\n",
    "The \"bivariate_model\" function takes an X and Y variable in the form of df[\"col_name\"] with an optional plots argument. The defualt is false, however you can set it to True to compare the training and test plots. \n",
    "\n",
    "The function will take the data (assuming there are no Missing or NaNs values) and split them into a test and training set. This allows us to assess model performance of standard ols and identify whether linear regression is the best tool. Perhaps, logistic regression or other feature engineering would be needed if the R^2 values are too low for expectations or the Mean Squared Error is too high. \n",
    "\n",
    "Now the function will return the Mean Squared Error (MSE) and R^2 values for the training and test sets. It will also provide the training model equation used in the test set. When plots = True, the functions will provide comparable plots with useful information on the bottom right hand side. In retrospect, if the data presents a negative coefficient, you would have a difficult time reading the results. In that case, the function would have to be revised. In the future, I will most likely include a positional_legend argument to change that. \n",
    "\n",
    "The MSE provides information to indicate how far the average distance each point is from the training model equation line and is often a good indicator for whether we are overfitting the model to the training set. Meanwhile, the R^2 values are good tools to assess if not only our explanatory variables are accounting for a good number of the variation in the dependent variable, but whether we are overfitting the data. In this case, standard bivariate ordinarly least squares regression performs quite well."
   ]
  },
  {
   "cell_type": "code",
   "execution_count": 10,
   "metadata": {},
   "outputs": [
    {
     "name": "stdout",
     "output_type": "stream",
     "text": [
      "Mean Squared Error: 4.737737463871234\n",
      "Training R^2: 0.8543097708222659\n",
      "Testing R^2: 0.8299228218933903\n",
      "y =  32.220505451645764 *x +  -62694.014211386486\n",
      "\n"
     ]
    },
    {
     "data": {
      "image/png": "[encoded data removed]",
      "text/plain": [
       "<Figure size 720x360 with 2 Axes>"
      ]
     },
     "metadata": {
      "needs_background": "light"
     },
     "output_type": "display_data"
    }
   ],
   "source": [
    "# Using the bivariate model on year vs passengers\n",
    "stats.bivariate_model(flights[\"year\"], flights[\"passengers\"], plots = True)"
   ]
  },
  {
   "cell_type": "markdown",
   "metadata": {},
   "source": [
    "##### Results\n",
    "This is an interesting finding as passenger flights did not exponentially grow since the late 1940s. Instead there exists a linear growth, which seems reasonable given planes slowly advancing to be larger and more commerically comforting rather than being bigger and stuffing people. The vertical lines in the data are a result of there being 12 months per year which provides 12 observations per each unit of X. There does seem to be some heteroscadsticity so by the 1960 period but overall the model performs well. "
   ]
  },
  {
   "cell_type": "markdown",
   "metadata": {},
   "source": [
    "#### \"Multivariate\" Regression of Planetary Data\n",
    "\n",
    "##### Loading Data and Dropping NaNs"
   ]
  },
  {
   "cell_type": "code",
   "execution_count": 11,
   "metadata": {},
   "outputs": [
    {
     "data": {
      "text/html": [
       "<div>\n",
       "<style scoped>\n",
       "    .dataframe tbody tr th:only-of-type {\n",
       "        vertical-align: middle;\n",
       "    }\n",
       "\n",
       "    .dataframe tbody tr th {\n",
       "        vertical-align: top;\n",
       "    }\n",
       "\n",
       "    .dataframe thead th {\n",
       "        text-align: right;\n",
       "    }\n",
       "</style>\n",
       "<table border=\"1\" class=\"dataframe\">\n",
       "  <thead>\n",
       "    <tr style=\"text-align: right;\">\n",
       "      <th></th>\n",
       "      <th>method</th>\n",
       "      <th>number</th>\n",
       "      <th>orbital_period</th>\n",
       "      <th>mass</th>\n",
       "      <th>distance</th>\n",
       "      <th>year</th>\n",
       "    </tr>\n",
       "  </thead>\n",
       "  <tbody>\n",
       "    <tr>\n",
       "      <th>0</th>\n",
       "      <td>Radial Velocity</td>\n",
       "      <td>1</td>\n",
       "      <td>269.300</td>\n",
       "      <td>7.10</td>\n",
       "      <td>77.40</td>\n",
       "      <td>2006</td>\n",
       "    </tr>\n",
       "    <tr>\n",
       "      <th>1</th>\n",
       "      <td>Radial Velocity</td>\n",
       "      <td>1</td>\n",
       "      <td>874.774</td>\n",
       "      <td>2.21</td>\n",
       "      <td>56.95</td>\n",
       "      <td>2008</td>\n",
       "    </tr>\n",
       "    <tr>\n",
       "      <th>2</th>\n",
       "      <td>Radial Velocity</td>\n",
       "      <td>1</td>\n",
       "      <td>763.000</td>\n",
       "      <td>2.60</td>\n",
       "      <td>19.84</td>\n",
       "      <td>2011</td>\n",
       "    </tr>\n",
       "    <tr>\n",
       "      <th>3</th>\n",
       "      <td>Radial Velocity</td>\n",
       "      <td>1</td>\n",
       "      <td>326.030</td>\n",
       "      <td>19.40</td>\n",
       "      <td>110.62</td>\n",
       "      <td>2007</td>\n",
       "    </tr>\n",
       "    <tr>\n",
       "      <th>4</th>\n",
       "      <td>Radial Velocity</td>\n",
       "      <td>1</td>\n",
       "      <td>516.220</td>\n",
       "      <td>10.50</td>\n",
       "      <td>119.47</td>\n",
       "      <td>2009</td>\n",
       "    </tr>\n",
       "    <tr>\n",
       "      <th>5</th>\n",
       "      <td>Radial Velocity</td>\n",
       "      <td>1</td>\n",
       "      <td>185.840</td>\n",
       "      <td>4.80</td>\n",
       "      <td>76.39</td>\n",
       "      <td>2008</td>\n",
       "    </tr>\n",
       "    <tr>\n",
       "      <th>6</th>\n",
       "      <td>Radial Velocity</td>\n",
       "      <td>1</td>\n",
       "      <td>1773.400</td>\n",
       "      <td>4.64</td>\n",
       "      <td>18.15</td>\n",
       "      <td>2002</td>\n",
       "    </tr>\n",
       "    <tr>\n",
       "      <th>8</th>\n",
       "      <td>Radial Velocity</td>\n",
       "      <td>1</td>\n",
       "      <td>993.300</td>\n",
       "      <td>10.30</td>\n",
       "      <td>73.10</td>\n",
       "      <td>2008</td>\n",
       "    </tr>\n",
       "    <tr>\n",
       "      <th>9</th>\n",
       "      <td>Radial Velocity</td>\n",
       "      <td>2</td>\n",
       "      <td>452.800</td>\n",
       "      <td>1.99</td>\n",
       "      <td>74.79</td>\n",
       "      <td>2010</td>\n",
       "    </tr>\n",
       "    <tr>\n",
       "      <th>10</th>\n",
       "      <td>Radial Velocity</td>\n",
       "      <td>2</td>\n",
       "      <td>883.000</td>\n",
       "      <td>0.86</td>\n",
       "      <td>74.79</td>\n",
       "      <td>2010</td>\n",
       "    </tr>\n",
       "  </tbody>\n",
       "</table>\n",
       "</div>"
      ],
      "text/plain": [
       "             method  number  orbital_period   mass  distance  year\n",
       "0   Radial Velocity       1         269.300   7.10     77.40  2006\n",
       "1   Radial Velocity       1         874.774   2.21     56.95  2008\n",
       "2   Radial Velocity       1         763.000   2.60     19.84  2011\n",
       "3   Radial Velocity       1         326.030  19.40    110.62  2007\n",
       "4   Radial Velocity       1         516.220  10.50    119.47  2009\n",
       "5   Radial Velocity       1         185.840   4.80     76.39  2008\n",
       "6   Radial Velocity       1        1773.400   4.64     18.15  2002\n",
       "8   Radial Velocity       1         993.300  10.30     73.10  2008\n",
       "9   Radial Velocity       2         452.800   1.99     74.79  2010\n",
       "10  Radial Velocity       2         883.000   0.86     74.79  2010"
      ]
     },
     "execution_count": 11,
     "metadata": {},
     "output_type": "execute_result"
    }
   ],
   "source": [
    "# Loading the planets dataset\n",
    "planets = sns.load_dataset(\"planets\")\n",
    "\n",
    "# Dropping missing data\n",
    "planets = planets.dropna()\n",
    "\n",
    "# Examing the first 10 Rows\n",
    "planets.head(10)"
   ]
  },
  {
   "cell_type": "markdown",
   "metadata": {},
   "source": [
    "##### Explanation of Function\n",
    "The \"general_regression\" function takes can take multiple X variables in the form of df[[\"col_name1\", \"col_name2\", ...]] and a Y variable in the form of df[\"col_name\"]. There are optional summary, kfoldcv, and splits argument. The defualt are all false (or 10 for the number of splits), however you can set it to True (or change the number) to examine those outputs. \n",
    "\n",
    "The function will take the data (assuming there are no Missing or NaNs values) and split them into a test and training set. This allows us to assess model performance of standard ols and identify whether linear regression is the best tool. Perhaps, logistic regression/other models or other feature engineering would be needed if the R^2 values are too low for expectations or the Mean Squared Error is too high. \n",
    "\n",
    "Now, the function will return the Mean Squared Error (MSE) and R^2 values for the training and test sets. If summary is set to True, then the function will return the Model Summary results for each independent variable. However it does not have the y-intercept, so having the model equation handy is currently not a feature. Since this function can take on multiple X variables, there is no plotting function at the moment. If kfoldcv is set to True then the function will carry out k-folded cross validation using the assigned number of data splits (the default value is 10). This will provide the results in a list which can be used to calculate the cross validation mean and standard deviation to identify overall model performance across various splits. It can also show the variation in model scores which in theory could be bootstrapped to find the most accurate and least biased model. "
   ]
  },
  {
   "cell_type": "code",
   "execution_count": 12,
   "metadata": {},
   "outputs": [
    {
     "name": "stdout",
     "output_type": "stream",
     "text": [
      "-------------Model Assessment-------------\n",
      "Mean Squared Error: 2939.152929938315\n",
      "Training R^2 0.026597673701568625\n",
      "Testing R^2 0.11263877171001457\n",
      "\n",
      "------------------------------------Model Summary------------------------------------\n",
      "                                 OLS Regression Results                                \n",
      "=======================================================================================\n",
      "Dep. Variable:         orbital_period   R-squared (uncentered):                   0.163\n",
      "Model:                            OLS   Adj. R-squared (uncentered):              0.159\n",
      "Method:                 Least Squares   F-statistic:                              36.17\n",
      "Date:                Tue, 09 Jun 2020   Prob (F-statistic):                    4.47e-15\n",
      "Time:                        13:45:11   Log-Likelihood:                         -3284.0\n",
      "No. Observations:                 373   AIC:                                      6572.\n",
      "Df Residuals:                     371   BIC:                                      6580.\n",
      "Df Model:                           2                                                  \n",
      "Covariance Type:            nonrobust                                                  \n",
      "==============================================================================\n",
      "                 coef    std err          t      P>|t|      [0.025      0.975]\n",
      "------------------------------------------------------------------------------\n",
      "mass         110.4772     23.317      4.738      0.000      64.626     156.328\n",
      "distance       4.6915      1.432      3.276      0.001       1.875       7.508\n",
      "==============================================================================\n",
      "Omnibus:                      425.540   Durbin-Watson:                   1.970\n",
      "Prob(Omnibus):                  0.000   Jarque-Bera (JB):            27857.750\n",
      "Skew:                           5.082   Prob(JB):                         0.00\n",
      "Kurtosis:                      44.099   Cond. No.                         19.5\n",
      "==============================================================================\n",
      "\n",
      "Warnings:\n",
      "[1] Standard Errors assume that the covariance matrix of the errors is correctly specified.\n",
      "\n",
      "-------------kfold CV Results-------------\n",
      "\n",
      "Cross Validation results: [-0.03490143  0.03522989  0.00058461 -0.02602854 -0.12278613 -0.02701853\n",
      "  0.02470076 -0.16613042 -0.0052713 ]\n",
      "\n",
      "Cross Validation mean: -0.03573567551806377\n",
      "Cross Validation std: 0.06297036302227017\n"
     ]
    }
   ],
   "source": [
    "# Using the general regression model on mass and distance to regress orbital_period\n",
    "stats.general_regression(planets[[\"mass\", \"distance\"]], planets[\"orbital_period\"], summary = True, kfoldcv = True, splits = 9)"
   ]
  },
  {
   "cell_type": "markdown",
   "metadata": {},
   "source": [
    "##### Results\n",
    "\n",
    "Regression is not the right tool for analyzing this planetary data. The Mean Squared Error is incredibly high and the R^2 score are incredibly low. Futhermore the cross validation results indicate a negative mean score which means our models are actually useless. Now, in the script, both functions are used on the flight data which already performed well as above but the cross validation results confirm this.\n",
    "\n",
    "Overall, this project demonstrates the power of linear regression in determining linear relations by investigating two distinct datasets. \n"
   ]
  },
  {
   "cell_type": "markdown",
   "metadata": {},
   "source": [
    "#### Extra Credit\n",
    "\n",
    "Replace all of this text with a brief explanation (~3 sentences) of: \n",
    "1. I started learning python last winter in CSS1 where I learned most of the material we covered in this course. In CSS2, we covered applying python to data analysis which really peaked my interest as I intend to enter academia and use these methods in future research. \n",
    "2. Therefore, while I may not have started from scratch in this course, I decided to take advantage of the overlapping final projects to create some universal functions that I can call upon in the future or improve. NOTE, I did not use the same dataset or have the same specific analytical structure for my COGS 18 and CSS2 Finals submissions. For my CSS2 submission I used WDI indicators to investigate wealth vs health, while for COGS 18 I am using a completely foreign seaborn dataset. The functions are identical, with the exception of my \"multivariate_regression\" where I could not debug an optional \"display_model\" argument which would display the equation used for the multivariate regression, and removed it to make my life a little easier. Overall, I could have created simple functions with minimal arguments for both courses, however I decided to take the time to create some beautiful analytical tools that I am extremely proud of. As a final aside, the \"avg\" and \"sd\" functions were not components of my CSS 2 final. "
   ]
  }
 ],
 "metadata": {
  "kernelspec": {
   "display_name": "Python 3",
   "language": "python",
   "name": "python3"
  },
  "language_info": {
   "codemirror_mode": {
    "name": "ipython",
    "version": 3
   },
   "file_extension": ".py",
   "mimetype": "text/x-python",
   "name": "python",
   "nbconvert_exporter": "python",
   "pygments_lexer": "ipython3",
   "version": "3.7.6"
  }
 },
 "nbformat": 4,
 "nbformat_minor": 4
}
